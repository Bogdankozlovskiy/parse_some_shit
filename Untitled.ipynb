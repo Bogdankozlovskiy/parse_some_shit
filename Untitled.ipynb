{
 "cells": [
  {
   "cell_type": "markdown",
   "metadata": {},
   "source": [
    "Parse\n",
    "==="
   ]
  },
  {
   "cell_type": "code",
   "execution_count": 1,
   "metadata": {},
   "outputs": [
    {
     "name": "stdout",
     "output_type": "stream",
     "text": [
      "200\n"
     ]
    }
   ],
   "source": [
    "import requests\n",
    "from bs4 import BeautifulSoup\n",
    "from tqdm.notebook import tqdm\n",
    "import aiohttp\n",
    "from collections import defaultdict\n",
    "\n",
    "session = requests.session()\n",
    "cred = {\"log\":\"BZRussia\", \"pwd\":\"bezares123\"}\n",
    "url = \"https://bezares.com/login/\"\n",
    "session.post(url, data=cred)\n",
    "url = \"https://bezares.com/customer-area/\"\n",
    "res = session.get(url)\n",
    "print(res.status_code)\n",
    "soup = BeautifulSoup(res.text)\n",
    "all_marca = [i.text for i in soup.find(\"select\", {\"name\":\"marca\"}).find_all(\"option\")]"
   ]
  },
  {
   "cell_type": "code",
   "execution_count": 2,
   "metadata": {},
   "outputs": [],
   "source": [
    "quary_dict = {}\n",
    "for m in all_marca[1:]:\n",
    "    url = f\"https://bezares.com/customer-area/?marca={m}\"\n",
    "    res = session.get(url)\n",
    "    soup = BeautifulSoup(res.text)\n",
    "    quary_dict[m] = [i.text for i in soup.find('select', {\"name\":\"modelo\"}).find_all(\"option\")][1:]"
   ]
  },
  {
   "cell_type": "code",
   "execution_count": 7,
   "metadata": {},
   "outputs": [],
   "source": [
    "def parse_date_from_page(page_soup, errors):\n",
    "    content = page_soup.find_all(\"table\", {\"class\":\"estilotabla\"})\n",
    "    if len(content) > 1:\n",
    "        page_soup = content[-1]\n",
    "        errors[marka].append(modelo)\n",
    "    result = []\n",
    "    keys = [i.text for i in page_soup.find(\"tr\", {'class':\"encabezado\"}) and \n",
    "                page_soup.find(\"tr\", {'class':\"encabezado\"}).find_all('th') or []]\n",
    "    all_tr = page_soup.find_all(\"tr\", {\"class\":\"estilocelda4\"})\n",
    "    for tr in all_tr:\n",
    "        data = {}\n",
    "        all_td = tr.find_all(\"td\")\n",
    "        data['uuid'] = all_td[0].text.strip()\n",
    "        data['href'] = f'https://bezares.com{all_td[0].find(\"a\").get(\"href\")}'\n",
    "        for i in range(1, len(keys)):\n",
    "            data[keys[i]] = all_td[i].text.strip() or all_td[i].find(\"img\") and all_td[i].find(\"img\").get(\"src\")\n",
    "        result.append(data)\n",
    "    return result"
   ]
  },
  {
   "cell_type": "code",
   "execution_count": 9,
   "metadata": {},
   "outputs": [
    {
     "data": {
      "application/vnd.jupyter.widget-view+json": {
       "model_id": "3ed6cac9bb5447d59203f9da4b84d242",
       "version_major": 2,
       "version_minor": 0
      },
      "text/plain": [
       "HBox(children=(FloatProgress(value=0.0, max=24.0), HTML(value='')))"
      ]
     },
     "metadata": {},
     "output_type": "display_data"
    },
    {
     "data": {
      "application/vnd.jupyter.widget-view+json": {
       "model_id": "",
       "version_major": 2,
       "version_minor": 0
      },
      "text/plain": [
       "HBox(children=(FloatProgress(value=0.0, max=47.0), HTML(value='')))"
      ]
     },
     "metadata": {},
     "output_type": "display_data"
    },
    {
     "data": {
      "application/vnd.jupyter.widget-view+json": {
       "model_id": "",
       "version_major": 2,
       "version_minor": 0
      },
      "text/plain": [
       "HBox(children=(FloatProgress(value=0.0, max=9.0), HTML(value='')))"
      ]
     },
     "metadata": {},
     "output_type": "display_data"
    },
    {
     "data": {
      "application/vnd.jupyter.widget-view+json": {
       "model_id": "",
       "version_major": 2,
       "version_minor": 0
      },
      "text/plain": [
       "HBox(children=(FloatProgress(value=0.0, max=323.0), HTML(value='')))"
      ]
     },
     "metadata": {},
     "output_type": "display_data"
    },
    {
     "data": {
      "application/vnd.jupyter.widget-view+json": {
       "model_id": "",
       "version_major": 2,
       "version_minor": 0
      },
      "text/plain": [
       "HBox(children=(FloatProgress(value=0.0, max=1.0), HTML(value='')))"
      ]
     },
     "metadata": {},
     "output_type": "display_data"
    },
    {
     "data": {
      "application/vnd.jupyter.widget-view+json": {
       "model_id": "",
       "version_major": 2,
       "version_minor": 0
      },
      "text/plain": [
       "HBox(children=(FloatProgress(value=0.0, max=25.0), HTML(value='')))"
      ]
     },
     "metadata": {},
     "output_type": "display_data"
    },
    {
     "data": {
      "application/vnd.jupyter.widget-view+json": {
       "model_id": "",
       "version_major": 2,
       "version_minor": 0
      },
      "text/plain": [
       "HBox(children=(FloatProgress(value=0.0, max=7.0), HTML(value='')))"
      ]
     },
     "metadata": {},
     "output_type": "display_data"
    },
    {
     "data": {
      "application/vnd.jupyter.widget-view+json": {
       "model_id": "",
       "version_major": 2,
       "version_minor": 0
      },
      "text/plain": [
       "HBox(children=(FloatProgress(value=0.0, max=59.0), HTML(value='')))"
      ]
     },
     "metadata": {},
     "output_type": "display_data"
    },
    {
     "data": {
      "application/vnd.jupyter.widget-view+json": {
       "model_id": "",
       "version_major": 2,
       "version_minor": 0
      },
      "text/plain": [
       "HBox(children=(FloatProgress(value=0.0, max=22.0), HTML(value='')))"
      ]
     },
     "metadata": {},
     "output_type": "display_data"
    },
    {
     "data": {
      "application/vnd.jupyter.widget-view+json": {
       "model_id": "",
       "version_major": 2,
       "version_minor": 0
      },
      "text/plain": [
       "HBox(children=(FloatProgress(value=0.0, max=2.0), HTML(value='')))"
      ]
     },
     "metadata": {},
     "output_type": "display_data"
    },
    {
     "data": {
      "application/vnd.jupyter.widget-view+json": {
       "model_id": "",
       "version_major": 2,
       "version_minor": 0
      },
      "text/plain": [
       "HBox(children=(FloatProgress(value=0.0, max=1.0), HTML(value='')))"
      ]
     },
     "metadata": {},
     "output_type": "display_data"
    },
    {
     "data": {
      "application/vnd.jupyter.widget-view+json": {
       "model_id": "",
       "version_major": 2,
       "version_minor": 0
      },
      "text/plain": [
       "HBox(children=(FloatProgress(value=0.0, max=3.0), HTML(value='')))"
      ]
     },
     "metadata": {},
     "output_type": "display_data"
    },
    {
     "data": {
      "application/vnd.jupyter.widget-view+json": {
       "model_id": "",
       "version_major": 2,
       "version_minor": 0
      },
      "text/plain": [
       "HBox(children=(FloatProgress(value=0.0, max=99.0), HTML(value='')))"
      ]
     },
     "metadata": {},
     "output_type": "display_data"
    },
    {
     "data": {
      "application/vnd.jupyter.widget-view+json": {
       "model_id": "",
       "version_major": 2,
       "version_minor": 0
      },
      "text/plain": [
       "HBox(children=(FloatProgress(value=0.0, max=33.0), HTML(value='')))"
      ]
     },
     "metadata": {},
     "output_type": "display_data"
    },
    {
     "data": {
      "application/vnd.jupyter.widget-view+json": {
       "model_id": "",
       "version_major": 2,
       "version_minor": 0
      },
      "text/plain": [
       "HBox(children=(FloatProgress(value=0.0, max=31.0), HTML(value='')))"
      ]
     },
     "metadata": {},
     "output_type": "display_data"
    },
    {
     "data": {
      "application/vnd.jupyter.widget-view+json": {
       "model_id": "",
       "version_major": 2,
       "version_minor": 0
      },
      "text/plain": [
       "HBox(children=(FloatProgress(value=0.0, max=9.0), HTML(value='')))"
      ]
     },
     "metadata": {},
     "output_type": "display_data"
    },
    {
     "data": {
      "application/vnd.jupyter.widget-view+json": {
       "model_id": "",
       "version_major": 2,
       "version_minor": 0
      },
      "text/plain": [
       "HBox(children=(FloatProgress(value=0.0, max=20.0), HTML(value='')))"
      ]
     },
     "metadata": {},
     "output_type": "display_data"
    },
    {
     "data": {
      "application/vnd.jupyter.widget-view+json": {
       "model_id": "",
       "version_major": 2,
       "version_minor": 0
      },
      "text/plain": [
       "HBox(children=(FloatProgress(value=0.0, max=23.0), HTML(value='')))"
      ]
     },
     "metadata": {},
     "output_type": "display_data"
    },
    {
     "data": {
      "application/vnd.jupyter.widget-view+json": {
       "model_id": "",
       "version_major": 2,
       "version_minor": 0
      },
      "text/plain": [
       "HBox(children=(FloatProgress(value=0.0, max=3.0), HTML(value='')))"
      ]
     },
     "metadata": {},
     "output_type": "display_data"
    },
    {
     "data": {
      "application/vnd.jupyter.widget-view+json": {
       "model_id": "",
       "version_major": 2,
       "version_minor": 0
      },
      "text/plain": [
       "HBox(children=(FloatProgress(value=0.0, max=27.0), HTML(value='')))"
      ]
     },
     "metadata": {},
     "output_type": "display_data"
    },
    {
     "data": {
      "application/vnd.jupyter.widget-view+json": {
       "model_id": "",
       "version_major": 2,
       "version_minor": 0
      },
      "text/plain": [
       "HBox(children=(FloatProgress(value=0.0, max=7.0), HTML(value='')))"
      ]
     },
     "metadata": {},
     "output_type": "display_data"
    },
    {
     "data": {
      "application/vnd.jupyter.widget-view+json": {
       "model_id": "",
       "version_major": 2,
       "version_minor": 0
      },
      "text/plain": [
       "HBox(children=(FloatProgress(value=0.0, max=1.0), HTML(value='')))"
      ]
     },
     "metadata": {},
     "output_type": "display_data"
    },
    {
     "data": {
      "application/vnd.jupyter.widget-view+json": {
       "model_id": "",
       "version_major": 2,
       "version_minor": 0
      },
      "text/plain": [
       "HBox(children=(FloatProgress(value=0.0, max=1.0), HTML(value='')))"
      ]
     },
     "metadata": {},
     "output_type": "display_data"
    },
    {
     "data": {
      "application/vnd.jupyter.widget-view+json": {
       "model_id": "",
       "version_major": 2,
       "version_minor": 0
      },
      "text/plain": [
       "HBox(children=(FloatProgress(value=0.0, max=65.0), HTML(value='')))"
      ]
     },
     "metadata": {},
     "output_type": "display_data"
    },
    {
     "data": {
      "application/vnd.jupyter.widget-view+json": {
       "model_id": "",
       "version_major": 2,
       "version_minor": 0
      },
      "text/plain": [
       "HBox(children=(FloatProgress(value=0.0, max=291.0), HTML(value='')))"
      ]
     },
     "metadata": {},
     "output_type": "display_data"
    },
    {
     "name": "stdout",
     "output_type": "stream",
     "text": [
      "\n"
     ]
    },
    {
     "data": {
      "text/plain": [
       "defaultdict(list,\n",
       "            {'EATON': ['MRT9513',\n",
       "              'MRTO9509A',\n",
       "              'MRTO9509B',\n",
       "              'MRTO9513',\n",
       "              'RT1110',\n",
       "              'RT11609A',\n",
       "              'RT11613',\n",
       "              'RT11613C',\n",
       "              'RT12509',\n",
       "              'RT12510',\n",
       "              'RT12515',\n",
       "              'RT14609A',\n",
       "              'RT14613',\n",
       "              'RT14613B',\n",
       "              'RT15613A',\n",
       "              'RT15613B',\n",
       "              'RT7609',\n",
       "              'RT7613',\n",
       "              'RT910',\n",
       "              'RT9509A',\n",
       "              'RT9509C',\n",
       "              'RT9513',\n",
       "              'RTF11609A',\n",
       "              'RTF11613',\n",
       "              'RTF12515',\n",
       "              'RTF14609A',\n",
       "              'RTF14613',\n",
       "              'RTF9509A',\n",
       "              'RTF9513',\n",
       "              'RTO1110',\n",
       "              'RTO11608LL',\n",
       "              'RTO11609A',\n",
       "              'RTO11609B',\n",
       "              'RTO11613',\n",
       "              'RTO12510',\n",
       "              'RTO12513',\n",
       "              'RTO12515',\n",
       "              'RTO14608LL',\n",
       "              'RTO14609A',\n",
       "              'RTO14609B',\n",
       "              'RTO14613',\n",
       "              'RTO15613',\n",
       "              'RTO15613A',\n",
       "              'RTO15613B',\n",
       "              'RTO7609',\n",
       "              'RTO7613',\n",
       "              'RTO910',\n",
       "              'RTO915',\n",
       "              'RTO9509A',\n",
       "              'RTO9509B',\n",
       "              'RTO9513',\n",
       "              'RTOF11609A',\n",
       "              'RTOF11609B',\n",
       "              'RTOF11613',\n",
       "              'RTOF12510',\n",
       "              'RTOF14609A',\n",
       "              'RTOF14609B',\n",
       "              'RTOF14613',\n",
       "              'RTOF9509A',\n",
       "              'RTOF9509B',\n",
       "              'RTOO11613',\n",
       "              'RTOO14613',\n",
       "              'RTOOF11613',\n",
       "              'RTOOF14613',\n",
       "              'RTOOX11613',\n",
       "              'RTOOX14613',\n",
       "              'RTOX11609A',\n",
       "              'RTOX14609B',\n",
       "              'RTX11609A',\n",
       "              'RTX11609B',\n",
       "              'RTX14609A',\n",
       "              'RTX7609'],\n",
       "             'MERCEDES': ['G100',\n",
       "              'G125-16/11.9 (Old)',\n",
       "              'G125-16/14 (Old)',\n",
       "              'G125-9/15.9 (Old)',\n",
       "              'G131-9/14.57-1.0',\n",
       "              'G135-16/11.9 (Old)',\n",
       "              'G140-8',\n",
       "              'G155-16/11.9 (Old)',\n",
       "              'G155-16/14 (Old)',\n",
       "              'G155-9/15.9 (Old)',\n",
       "              'G180-16/11.9 (Old)',\n",
       "              'G180-16/14 (Old)',\n",
       "              'G20',\n",
       "              'G200-16/11.9 (Old)',\n",
       "              'G211-16/17.0',\n",
       "              'G28',\n",
       "              'G3 36-5/8.98',\n",
       "              'G3 40-5/7.508',\n",
       "              'G3 45-6/8.5',\n",
       "              'G3 50-5/8.5',\n",
       "              'G3 55-6/8.5',\n",
       "              'G3 60-5/5.4',\n",
       "              'G3 60-5/6.106',\n",
       "              'G3 60-5/7.5',\n",
       "              'G3 61-5/6.1',\n",
       "              'G3 65-8/9.29',\n",
       "              'G3 65-9/13.36',\n",
       "              'G3 90-8/9.29',\n",
       "              'G3 90-9/13.36',\n",
       "              'G32',\n",
       "              'G33',\n",
       "              'G4 110-6/9',\n",
       "              'G4 65-6/9',\n",
       "              'G4 65-7/11',\n",
       "              'G4 95-6/9',\n",
       "              'G4 95-7/11',\n",
       "              'G56-6/6.29-078',\n",
       "              'G60-6/9.2',\n",
       "              'G70-6/5.94-0.74',\n",
       "              'G71-6/9.20-1.0',\n",
       "              'G85-6/6.7',\n",
       "              'G90-6/6.70-0.73',\n",
       "              'GV4 110-6/9',\n",
       "              'GV4 65-6/9',\n",
       "              'GV4 95-6/9',\n",
       "              'MB-1 (ORIGINAL)',\n",
       "              'NSG 370-6',\n",
       "              'NSG 400-6',\n",
       "              'TSG 360',\n",
       "              'TSG 480'],\n",
       "             'PEGASO': ['3050 (ZF 182561011 por ISA)', '3050 (ZF S6-90/7.03)'],\n",
       "             'SHAANXI': ['12JS-160T', '12JS-200T', '9JS'],\n",
       "             'VOLVO': ['MR61',\n",
       "              'MR62',\n",
       "              'R51',\n",
       "              'R52',\n",
       "              'R61',\n",
       "              'R62',\n",
       "              'R70',\n",
       "              'SR52',\n",
       "              'SR61',\n",
       "              'SR62',\n",
       "              'SR70'],\n",
       "             'ZF': ['12AS1630TD/15.86-1.0',\n",
       "              '12AS1631TD/15.86-1.0 IT',\n",
       "              '12AS1800/14.89-1.0 IT',\n",
       "              '12AS1930TD/15.86-1.0',\n",
       "              '12AS1930TO/12.33-0.78',\n",
       "              '12AS1931TD/15.86-1.0 IT',\n",
       "              '12AS1931TO/12.33-0.78 IT',\n",
       "              '12AS2130TD/15.86-1.0',\n",
       "              '12AS2130TO/12.33-0.78',\n",
       "              '12AS2131TD/15.86-1.0 IT',\n",
       "              '12AS2131TO/12.33-0.78 IT',\n",
       "              '12AS2140TD/15.86-1.0',\n",
       "              '12AS2141TD/15.86-1.0 IT',\n",
       "              '12AS2301TD/15.86-1.0 IT',\n",
       "              '12AS2301TO/12.33-0.78 IT',\n",
       "              '12AS2330TD/15.86-1.0',\n",
       "              '12AS2330TO/12.33-0.78',\n",
       "              '12AS2331TD/15.86-1.0 IT',\n",
       "              '12AS2331TO/12.33-0.78 IT',\n",
       "              '12AS2340TD/15.86-1.0',\n",
       "              '12AS2341TD/15.86-1.0 IT',\n",
       "              '12AS2430TD/15.86-1.0',\n",
       "              '12AS2431TD/15.86-1.0 IT',\n",
       "              '12AS2530TO/12.33-0.78',\n",
       "              '12AS2531TO/12.33-0.78 IT',\n",
       "              '12AS2540TD/15.86-1.0',\n",
       "              '12AS2540TO/12.29-0.78',\n",
       "              '12AS2541TO/12.29-0.78 IT',\n",
       "              '12AS2740TO/12.29-0.78',\n",
       "              '12AS2741TO/12.29-0.78 IT',\n",
       "              '12AS2940TO/12.29-0.78',\n",
       "              '12AS2941TO/12.29-0.78 IT',\n",
       "              '12S2100TD/15.57-1.0',\n",
       "              '12S2300TD/15.57-1.0',\n",
       "              '12S2800TD/15.57-1.0',\n",
       "              '12TX-1410TD/16.69-1.0',\n",
       "              '12TX-1610TD/16.69-1.0',\n",
       "              '12TX-1610TO/12.92-0.77',\n",
       "              '12TX-1810TD/16.69-1.0',\n",
       "              '12TX-1810TO/12.92-0.77',\n",
       "              '12TX-2010TD/16.69-1.0',\n",
       "              '12TX-2010TO/12.92-0.77',\n",
       "              '12TX-2210TD/16.69-1.0',\n",
       "              '12TX-2210TO/12.92-0.77',\n",
       "              '12TX-2410TO/12.92-0.77',\n",
       "              '12TX-2420TD/16.69-1.0',\n",
       "              '12TX-2610TO/12.92-0.77',\n",
       "              '12TX-2620TD/16.69-1.0',\n",
       "              '12TX-2820TD/16.69-1.0',\n",
       "              '12TX-2820TO/12.92-0.77',\n",
       "              '12TX-3020TO/12.92-0.77',\n",
       "              '12TX-3220TO/12.92-0.77',\n",
       "              '12TX-3420TO/12.92-0.77',\n",
       "              '16AS2200/15.89-1.0 IT',\n",
       "              '16AS2230TD/17.03-1.0',\n",
       "              '16AS2231TD/17.03-1.0 IT',\n",
       "              '16AS2601TD/17.03-1.0 IT',\n",
       "              '16AS2601TO/14.12-0.83',\n",
       "              '16AS2630TO/14.12-0.83',\n",
       "              '16AS2631TO/14.12-0.83 IT',\n",
       "              '16S130 -ECOSPLIT',\n",
       "              '16S151/13.80IT',\n",
       "              '16S151/13.85-0.84',\n",
       "              '16S151/13.85IT',\n",
       "              '16S151/16.41IT',\n",
       "              '16S151/16.47IT',\n",
       "              '16S151/16.53IT',\n",
       "              '16S1620TD/16.41-1.0',\n",
       "              '16S1621TD/16.41-1.0 IT',\n",
       "              '16S181/13.80IT',\n",
       "              '16S181/13.85IT',\n",
       "              '16S181/16.41IT',\n",
       "              '16S181/16.47IT',\n",
       "              '16S181/16.53IT',\n",
       "              '16S1820TO/13.80-0.84',\n",
       "              '16S1821TO/13.80-0.84 IT',\n",
       "              '16S1920TD/16.41-1.0',\n",
       "              '16S1921TD/16.41-1.0 IT',\n",
       "              '16S221/13.80IT',\n",
       "              '16S221/13.85IT',\n",
       "              '16S221/16.41IT',\n",
       "              '16S221/16.47IT',\n",
       "              '16S221/16.53IT',\n",
       "              '16S2220TD/16.41-1.0',\n",
       "              '16S2220TO/13.80-0.84',\n",
       "              '16S2221TD/16.41-1.0 IT',\n",
       "              '16S2221TO/13.80-0.84 IT',\n",
       "              '16S2320TD/16.41-1.0',\n",
       "              '16S2321TD/16.41-1.0 IT',\n",
       "              '16S2330TD/16.41-1.0',\n",
       "              '16S2331TD/16.41-1.0 IT',\n",
       "              '16S2520TO/13.80-0.84',\n",
       "              '16S2521TO/13.80-0.84 IT',\n",
       "              '16S2720TO/13.80-0.84',\n",
       "              '16S2721TO/13.80-0.84 IT',\n",
       "              '16S2730TO/13.80-0.84',\n",
       "              '16S2731TO/13.80-0.84 IT',\n",
       "              '16TX-1640TD/17.94-1.0',\n",
       "              '16TX-1840TD/17.94-1.0',\n",
       "              '16TX-1840TO/14.68-0.82',\n",
       "              '16TX-2040TD/17.94-1.0',\n",
       "              '16TX-2040TO/14.68-0.82',\n",
       "              '16TX-2240TD/17.94-1.0',\n",
       "              '16TX-2240TO/14.68-0.82',\n",
       "              '16TX-2440TD/17.94-1.0',\n",
       "              '16TX-2440TO/14.68-0.82',\n",
       "              '16TX-2640TD/17.94-1.0',\n",
       "              '16TX-2640TO/14.68-0.82',\n",
       "              '16TX-2840TD/17.94-1.0',\n",
       "              '16TX-2840TO/14.68-0.82',\n",
       "              '16TX-3040TO/14.68-0.82',\n",
       "              '16TX-3240TO/14.68-0.82',\n",
       "              '16TX-3440TO/14.68-0.82',\n",
       "              '2840.6/5.375',\n",
       "              '4-120GP/10.91',\n",
       "              '4-120GP/8.05',\n",
       "              '4-120GP/9.16',\n",
       "              '5S270 VO',\n",
       "              '6AS1000TO/6.75 - 0.78',\n",
       "              '6AS400/5.375',\n",
       "              '6AS700/6.02-0.79',\n",
       "              '6AS800TO/6.58 - 0.78',\n",
       "              '6S1000TO/6.75 - 0.78',\n",
       "              '6S1005TO/6.75 - 0.78',\n",
       "              '6S1200TD/7.72 - 1.00',\n",
       "              '6S1200TO/6.75 - 0.83',\n",
       "              '6S300',\n",
       "              '6S350 VD',\n",
       "              '6S380VO/5.38',\n",
       "              '6S400/5.375',\n",
       "              '6S420/5.538-0.723',\n",
       "              '6S420/5.779',\n",
       "              '6S700/6.02-0.79',\n",
       "              '6S800TO/6.58-0.78 (VOLVO ZTO 1006)',\n",
       "              '6S850/6.72-0.79',\n",
       "              '6S850/8.51-1.0',\n",
       "              '8S151/13.79',\n",
       "              '8S1620TD/13.80-1.0',\n",
       "              '8S1820TO/11.54-0.84',\n",
       "              '8S220TO/11.54-0.84',\n",
       "              'S5-24/6.34',\n",
       "              'S5-24/6.40',\n",
       "              'S5-30/7.31',\n",
       "              'S5-30/8.00',\n",
       "              'S5-30/8.50',\n",
       "              'S5-35/5.64',\n",
       "              'S5-35/6.45',\n",
       "              'S5-35/6.75',\n",
       "              'S5-35/6.79',\n",
       "              'S5-35/7.65',\n",
       "              'S5-35/8.02',\n",
       "              'S5-42/4.65',\n",
       "              'S5-42/5.72',\n",
       "              'S5-42/6.56',\n",
       "              'S5-42/7.55',\n",
       "              'S5-50/5.30',\n",
       "              'S5-50/5.50',\n",
       "              'S5-50/6.20',\n",
       "              'S5-50/6.61',\n",
       "              'S5-50/8.02',\n",
       "              'S5-90GPA',\n",
       "              'S6-36/6.06',\n",
       "              'S6-36/6.93-0.8',\n",
       "              'S6-36/7.43-1.0',\n",
       "              'S6-36/8.97-1.0',\n",
       "              'S6-65/6.37',\n",
       "              'S6-65/6.70',\n",
       "              'S6-65/7.40',\n",
       "              'S6-65/7.52',\n",
       "              'S6-65/9.00',\n",
       "              'S6-66/7.36-1.0',\n",
       "              'S6-66/9.06-1.0',\n",
       "              'S6-70/6.8',\n",
       "              'S6-70/7.36',\n",
       "              'S6-70/7.92',\n",
       "              'S6-70/9.03',\n",
       "              'S6-70/9.59',\n",
       "              'S6-80/5.03',\n",
       "              'S6-80/5.66',\n",
       "              'S6-80/6.10',\n",
       "              'S6-80/6.7',\n",
       "              'S6-80/6.90',\n",
       "              'S6-80/7.35',\n",
       "              'S6-80/7.41',\n",
       "              'S6-80/7.53',\n",
       "              'S6-80/7.67',\n",
       "              'S6-80/7.90',\n",
       "              'S6-80/9.00',\n",
       "              'S6-90/5.67',\n",
       "              'S6-90/5.74',\n",
       "              'S6-90/6.37',\n",
       "              'S6-90/6.98',\n",
       "              'S6-90/7.03',\n",
       "              'S6-90/7.40',\n",
       "              'S6-90/9.01']})"
      ]
     },
     "execution_count": 9,
     "metadata": {},
     "output_type": "execute_result"
    }
   ],
   "source": [
    "result = {}\n",
    "errors = defaultdict(list)\n",
    "for marka in tqdm(quary_dict):\n",
    "    marka_model = {}\n",
    "    for modelo in tqdm(quary_dict[marka], leave=False):\n",
    "        url = f\"https://bezares.com/customer-area/?marca={marka}&modelo={modelo}\"\n",
    "        res = session.get(url)\n",
    "        soup = BeautifulSoup(res.text)\n",
    "        data = parse_date_from_page(soup, errors)\n",
    "        marka_model[modelo] = data\n",
    "    result[marka] = marka_model\n",
    "errors"
   ]
  },
  {
   "cell_type": "code",
   "execution_count": 12,
   "metadata": {},
   "outputs": [],
   "source": [
    "from json import dump"
   ]
  },
  {
   "cell_type": "code",
   "execution_count": 17,
   "metadata": {},
   "outputs": [],
   "source": [
    "dump(result, open(\"result.json\",\"w\"))"
   ]
  },
  {
   "cell_type": "code",
   "execution_count": 18,
   "metadata": {},
   "outputs": [],
   "source": [
    "dump(errors, open(\"error.json\",\"w\"))"
   ]
  },
  {
   "cell_type": "markdown",
   "metadata": {},
   "source": [
    "---"
   ]
  },
  {
   "cell_type": "code",
   "execution_count": 1,
   "metadata": {},
   "outputs": [],
   "source": [
    "from json import load"
   ]
  },
  {
   "cell_type": "code",
   "execution_count": 3,
   "metadata": {},
   "outputs": [],
   "source": [
    "result = load(open(\"result.json\"))"
   ]
  },
  {
   "cell_type": "code",
   "execution_count": 5,
   "metadata": {},
   "outputs": [
    {
     "data": {
      "text/plain": [
       "dict_keys(['ALLISON', 'CLARK', 'EATON', 'GAZ', 'HINO', 'HYUNDAI', 'ISUZU', 'IVECO', 'KAMAZ', 'LAND ROVER', 'MACK', 'MERCEDES', 'MITSUBISHI', 'NISSAN', 'PEGASO', 'RENAULT', 'SCANIA', 'SHAANXI', 'SPICER', 'TOYOTA', 'TURNER', 'VOLKSWAGEN', 'VOLVO', 'ZF'])"
      ]
     },
     "execution_count": 5,
     "metadata": {},
     "output_type": "execute_result"
    }
   ],
   "source": [
    "result.keys()"
   ]
  },
  {
   "cell_type": "code",
   "execution_count": 6,
   "metadata": {},
   "outputs": [],
   "source": [
    "import xlrd, xlwt"
   ]
  },
  {
   "cell_type": "code",
   "execution_count": 93,
   "metadata": {},
   "outputs": [],
   "source": [
    "wb = xlwt.Workbook()\n",
    "for key in result.keys():\n",
    "    ws = wb.add_sheet(key)\n",
    "# wb.save('xl_rec.xls')"
   ]
  },
  {
   "cell_type": "code",
   "execution_count": 94,
   "metadata": {},
   "outputs": [],
   "source": [
    "def write_marka(wb, data, key):\n",
    "    ws = wb.get_sheet(key)\n",
    "    marka_data = data[key]\n",
    "    index_row = 0\n",
    "    style_model = xlwt.easyxf('pattern: pattern solid, fore_colour light_blue;',\n",
    "                              'font: colour white, bold True;')\n",
    "    style_title = xlwt.easyxf('pattern: pattern solid, fore_colour light_yellow;',\n",
    "                              'font: colour black, bold True;')\n",
    "    style_error = xlwt.easyxf('pattern: pattern solid, fore_colour red;',\n",
    "                              'font: colour black, bold True;')\n",
    "    for model in marka_data:\n",
    "        ws.write(index_row, 0, model, style=style_model)\n",
    "        index_row += 1\n",
    "        try:\n",
    "            for index_col, key in enumerate(marka_data[model][0]):\n",
    "                ws.write(index_row, index_col, key, style=style_title)\n",
    "        except IndexError:\n",
    "            ws.write(index_row, 0, \"Do not Have Value\")\n",
    "        index_row += 1\n",
    "        for item in marka_data[model]:\n",
    "            for index_col, value in enumerate(item.values()):\n",
    "                ws.write(index_row, index_col, value)\n",
    "            index_row += 1\n",
    "            \n",
    "        \n",
    "        \n",
    "        \n",
    "    wb.save('xl_rec.xls')\n",
    "    return index_row"
   ]
  },
  {
   "cell_type": "code",
   "execution_count": 95,
   "metadata": {},
   "outputs": [
    {
     "name": "stdout",
     "output_type": "stream",
     "text": [
      "ALLISON 822\n",
      "CLARK 39\n",
      "EATON 5898\n",
      "GAZ 4\n",
      "HINO 89\n",
      "HYUNDAI 25\n",
      "ISUZU 259\n",
      "IVECO 100\n",
      "KAMAZ 18\n",
      "LAND ROVER 4\n",
      "MACK 9\n",
      "MERCEDES 781\n",
      "MITSUBISHI 156\n",
      "NISSAN 116\n",
      "PEGASO 27\n",
      "RENAULT 64\n",
      "SCANIA 105\n",
      "SHAANXI 11\n",
      "SPICER 81\n",
      "TOYOTA 31\n",
      "TURNER 5\n",
      "VOLKSWAGEN 3\n",
      "VOLVO 808\n",
      "ZF 2910\n"
     ]
    }
   ],
   "source": [
    "for key in result.keys():\n",
    "    rows = write_marka(wb, result, key)\n",
    "    print(key, rows)"
   ]
  }
 ],
 "metadata": {
  "kernelspec": {
   "display_name": "Python 3",
   "language": "python",
   "name": "python3"
  },
  "language_info": {
   "codemirror_mode": {
    "name": "ipython",
    "version": 3
   },
   "file_extension": ".py",
   "mimetype": "text/x-python",
   "name": "python",
   "nbconvert_exporter": "python",
   "pygments_lexer": "ipython3",
   "version": "3.7.3"
  }
 },
 "nbformat": 4,
 "nbformat_minor": 4
}
